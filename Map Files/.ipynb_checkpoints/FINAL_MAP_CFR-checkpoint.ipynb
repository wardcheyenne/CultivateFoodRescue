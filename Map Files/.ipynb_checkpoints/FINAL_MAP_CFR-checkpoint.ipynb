{
 "cells": [
  {
   "cell_type": "markdown",
   "id": "6cd97ae3-b565-4023-aab6-966605ff0780",
   "metadata": {},
   "source": [
    "# Layered Map\n",
    "*Timothy Perez*"
   ]
  },
  {
   "cell_type": "markdown",
   "id": "67c605a3-00e4-475d-80e4-aed3ae6fb5e1",
   "metadata": {},
   "source": [
    "These are the packages that are useful for making an interactive map and displaying the data.\n",
    "- '**dplyr**' is a very popular package that is a grammar of data manipulation. Essentially it adds functions that help in working with data (dplyr is part of the tidyverse package if your familiar)\n",
    "- '**leaflet**' is a package the creates maps (provided that there is some coordinate refernce system **{crs}**. Leaflet is used in conjunction with htmlwidgets.\n",
    "- '**htmlwidgets**' package provides a framework for easily creating R bindings to JavaScript libraries. Basically you can save stuff as .html and it interacts nicely.\n",
    "- '**sf**; helps with processing data files that deal with geographies. You can always use '?function_name' or '??package name to learn more about what it does"
   ]
  },
  {
   "cell_type": "code",
   "execution_count": null,
   "id": "e037472f-bb64-4087-8316-b8668914f376",
   "metadata": {
    "scrolled": true
   },
   "outputs": [],
   "source": [
    "# this will explain the package 'sf' for example.\n",
    "# FYI: It will generate a long report of 'sf' (you can clear the output of a cell to save space as well, which is what I do)\n",
    "??sf"
   ]
  },
  {
   "cell_type": "code",
   "execution_count": null,
   "id": "ac628735-a596-4dfb-9e70-e4673ad606ed",
   "metadata": {
    "scrolled": true
   },
   "outputs": [],
   "source": [
    "library(dplyr)\n",
    "library(leaflet)\n",
    "library(htmlwidgets)\n",
    "library(sf)"
   ]
  },
  {
   "cell_type": "markdown",
   "id": "c265e24b-0f87-449f-b3bd-b22938bcc7af",
   "metadata": {},
   "source": [
    "'st_read' is the command to read .shp files in R. "
   ]
  },
  {
   "cell_type": "markdown",
   "id": "0b4f718f-57ac-4d91-9f91-194c1a9becff",
   "metadata": {},
   "source": [
    "It is very important that you upload the .shx file as well with this one so that it can be read properly. You also need the .prj, .dbf, and .cpg files so that all of the features will load and not just the geometries associated with the .shp and .shx file. "
   ]
  },
  {
   "cell_type": "code",
   "execution_count": null,
   "id": "90f37d8f-78e7-47cf-bc90-349ad2491caa",
   "metadata": {},
   "outputs": [],
   "source": [
    "in.counties <- st_read(\"tl_2021_18_tract.shp\")\n",
    "in.counties\n"
   ]
  },
  {
   "cell_type": "code",
   "execution_count": null,
   "id": "93132749-4bb3-4686-bbab-48426276514e",
   "metadata": {},
   "outputs": [],
   "source": []
  },
  {
   "cell_type": "markdown",
   "id": "1439c46d-65d3-4d07-a8ab-9fd422a98579",
   "metadata": {},
   "source": [
    "The function '%>%' is called the piping command and it passes the first object as an argument into the second command."
   ]
  },
  {
   "cell_type": "code",
   "execution_count": null,
   "id": "f6fe06e4-4e40-4730-a39b-dec252f0725e",
   "metadata": {},
   "outputs": [],
   "source": [
    "# In this case, it takes the object in.counties and pipes it into the class() function.\n",
    "# This ('class') lets me know what kind of object I am working with\n",
    "in.counties %>% class"
   ]
  },
  {
   "cell_type": "code",
   "execution_count": null,
   "id": "2130bf97-e3e2-4f7e-a2ab-c0c423675b9a",
   "metadata": {
    "scrolled": true
   },
   "outputs": [],
   "source": [
    "str(in.counties)\n",
    "# This is just so I can see the various features and their type. "
   ]
  },
  {
   "cell_type": "markdown",
   "id": "f078c1af-dfa7-4d53-8868-fac765161a99",
   "metadata": {},
   "source": [
    "Now we are going to actually produce a map using 'NAME' which is the tract number for all of Indiana.\n",
    "\n",
    "We begin by taking our data 'in.counties' piping it to 'leaflet', piping it to 'openstreetmap' which is an open source geographic database where people update places, roads, etc. on the map, and finally piping it to add polygons (which are the geometries in the .shp file)."
   ]
  },
  {
   "cell_type": "code",
   "execution_count": null,
   "id": "89050086-4623-46ec-86d7-f27d8e5df71d",
   "metadata": {},
   "outputs": [],
   "source": [
    "in.counties %>% \n",
    "  leaflet() %>% \n",
    "  addProviderTiles('OpenStreetMap') %>% \n",
    "  addPolygons(weight=1, fillOpacity=.25, label=~NAME)\n"
   ]
  },
  {
   "cell_type": "markdown",
   "id": "f1de3d94-de93-4ce9-838e-5b967ab0a309",
   "metadata": {},
   "source": [
    "Now we only want tracts in Marshall, St. Joseph, and Elkhart counties. You'll notice there is a feature called 'COUNTYFP'. Every county has a unique identifier that every tract in the county will share. For instance all the tracts in St. Joseph will have a 'COUNTYFP' of 141."
   ]
  },
  {
   "cell_type": "code",
   "execution_count": null,
   "id": "e8639633-7e05-4ffa-a764-ff67fbface37",
   "metadata": {},
   "outputs": [],
   "source": [
    "## Define the county FIPS codes\n",
    "county_fips <- c(\"099\", \"141\", \"039\")\n",
    "\n",
    "# Filter for those counties\n",
    "filtered_counties <- in.counties %>%\n",
    "  filter(COUNTYFP %in% county_fips)"
   ]
  },
  {
   "cell_type": "markdown",
   "id": "2281edd7-adbb-48a0-b83a-e6f92f2f081a",
   "metadata": {},
   "source": [
    "Now that we have the counties filtered, we will make another map like the one above."
   ]
  },
  {
   "cell_type": "code",
   "execution_count": null,
   "id": "ec0b073d-e63d-425f-9ef9-447435b453ea",
   "metadata": {},
   "outputs": [],
   "source": [
    "filtered_counties %>% \n",
    "  leaflet() %>% \n",
    "  addProviderTiles('OpenStreetMap') %>% \n",
    "  addPolygons(weight=1, fillOpacity=.25, label=~NAME)"
   ]
  },
  {
   "cell_type": "markdown",
   "id": "472cd43e-86ad-4e6e-bec2-52588c139126",
   "metadata": {},
   "source": [
    "This is everything it takes to get the actual map. Depending on your goals it might be better to add nodes or radii for a region, those have different commands (not hard to find).\n",
    "\n",
    "If you want to add data to display with the tract the next steps is joining that data to it. But it has to match fairly well, meaning column names must be the same (it's much easiear if they have the same column names, column types, etc.)\n",
    "\n",
    "We made a csv last second that would match up well and just added in new columns for 'MEDIAN.INCOME' and 'POPULATION'. The rest of this is simply making sure that it adds nicely because, for instance, some tracts have the same number in different counties. (e.g theres a tract 1 in st. joseph, but also a tract 1 in elkhart) This can create problems because if we want to join by tract it is not unique so R needs to know what Median income and population to put with it. "
   ]
  },
  {
   "cell_type": "markdown",
   "id": "3f9fa920-4bf0-4686-96bd-abb93098640f",
   "metadata": {},
   "source": [
    "To circumvent this issue it was best to make a new object for each county and m"
   ]
  },
  {
   "cell_type": "code",
   "execution_count": null,
   "id": "9bcb0d62-a5dc-492b-9cdc-1914b499e0bb",
   "metadata": {},
   "outputs": [],
   "source": [
    "# We begin by subsetting the 'filtered_counties' into three new objects one for each county.\n",
    "# I also took the original csv and split it into three different ones so this work smoothly.\n",
    "\n",
    "# We begin by first subsetting into tracts by county as each their own object.\n",
    "\n",
    "filtered_counties1 <- filtered_counties %>%\n",
    "  filter(COUNTYFP == \"039\")\n",
    "sort(filtered_counties1$NAME)\n",
    "# this is Elkhart"
   ]
  },
  {
   "cell_type": "code",
   "execution_count": null,
   "id": "5bcbb370-5011-4817-84d1-ffaa8a20a43c",
   "metadata": {},
   "outputs": [],
   "source": [
    "# this is St. Joseph\n",
    "filtered_counties2 <- filtered_counties %>%\n",
    "  filter(COUNTYFP == \"141\")\n",
    "sort(filtered_counties2$NAME)\n",
    "length(sort(filtered_counties2$NAME))"
   ]
  },
  {
   "cell_type": "code",
   "execution_count": null,
   "id": "000a60de-27a2-4557-ad97-b277f861a608",
   "metadata": {},
   "outputs": [],
   "source": [
    "# this is Marshal\n",
    "filtered_counties3 <- filtered_counties %>%\n",
    "  filter(COUNTYFP == \"099\")\n",
    "sort(filtered_counties3$NAME)\n",
    "length(sort(filtered_counties3$NAME))\n"
   ]
  },
  {
   "cell_type": "code",
   "execution_count": null,
   "id": "fd6ee0c5-1ab5-4cfb-8189-68523a3ef064",
   "metadata": {},
   "outputs": [],
   "source": [
    "# now load in the csv's\n",
    "df1 <- read.csv(\"Elkhart_Age_Data_Transposed.csv\", stringsAsFactors = FALSE) # elkhart\n",
    "df2 <- read.csv(\"St_Joseph_Age_Data_Transposed.csv\", stringsAsFactors = FALSE) # st. joseph\n",
    "df3 <- read.csv(\"Marshall_Age_Data_Transposed.csv\", stringsAsFactors = FALSE) # marshall"
   ]
  },
  {
   "cell_type": "code",
   "execution_count": null,
   "id": "5273f0d3-650d-40c6-9561-91906cf6c939",
   "metadata": {},
   "outputs": [],
   "source": [
    "df_1 <- read.csv(\"Elkhart_MedianIncome_Transposed.csv\", stringsAsFactors = FALSE) # elkhart\n",
    "df_2 <- read.csv(\"St_Joseph_MedianIncome_Transposed.csv\", stringsAsFactors = FALSE) # st. joseph\n",
    "df_3 <- read.csv(\"Marshall_MedianIncome_Tranposed.csv\", stringsAsFactors = FALSE) # marshall"
   ]
  },
  {
   "cell_type": "code",
   "execution_count": null,
   "id": "ea6d6d30-317f-41b1-aec7-13f2deb59cc5",
   "metadata": {},
   "outputs": [],
   "source": [
    "df_2$Median.Income."
   ]
  },
  {
   "cell_type": "code",
   "execution_count": null,
   "id": "981b8ea0-b524-4d48-852f-a6842ef9264b",
   "metadata": {},
   "outputs": [],
   "source": [
    "DF1 <- read.csv(\"Elkhart_PovPercent_Transposed.csv\", stringsAsFactors = FALSE) # elkhart\n",
    "DF2 <- read.csv(\"St_Joseph_PovPercent_Transposed.csv\", stringsAsFactors = FALSE) # st. joseph\n",
    "DF3 <- read.csv(\"Marhsall_PovPercent_Transposed.csv\", stringsAsFactors = FALSE) # marshall"
   ]
  },
  {
   "cell_type": "code",
   "execution_count": null,
   "id": "f2b7a75c-684e-4753-b548-1d25d92f3bfe",
   "metadata": {},
   "outputs": [],
   "source": [
    "DF_1 <- read.csv(\"elkhart_sex.csv\", stringsAsFactors = FALSE) # elkhart\n",
    "DF_2 <- read.csv(\"joseph_sex.csv\", stringsAsFactors = FALSE) # st. joseph\n",
    "DF_3 <- read.csv(\"marshall_sex.csv\", stringsAsFactors = FALSE) # marshall"
   ]
  },
  {
   "cell_type": "code",
   "execution_count": null,
   "id": "d0929013-3ff7-4db8-b00b-a0a644016cdf",
   "metadata": {},
   "outputs": [],
   "source": [
    "DataF1 <- read.csv(\"Elkhart_Tracts_Cleaned.csv\", stringsAsFactors = FALSE) # elkhart\n",
    "DataF2 <- read.csv(\"StJOE_Renamed_Tract_Column.csv\", stringsAsFactors = FALSE) # st. joseph\n",
    "DataF3 <- read.csv(\"Marshall_Tracts_Cleaned.csv\", stringsAsFactors = FALSE) # marshall\n"
   ]
  },
  {
   "cell_type": "code",
   "execution_count": null,
   "id": "0c99ac9d-6f86-4580-a388-e48463f7abb8",
   "metadata": {},
   "outputs": [],
   "source": [
    "colnames(DF_1)[1]  <- \"NAME\"\n",
    "colnames(DF_2)[1]  <- \"NAME\"\n",
    "colnames(DF_3)[1]  <- \"NAME\""
   ]
  },
  {
   "cell_type": "code",
   "execution_count": null,
   "id": "f54a65ba-c06e-4710-bc30-4a0bfcda6032",
   "metadata": {},
   "outputs": [],
   "source": [
    "str(df1)"
   ]
  },
  {
   "cell_type": "code",
   "execution_count": null,
   "id": "772ed317-7f9c-40bc-a381-2f11b8aa2d06",
   "metadata": {
    "scrolled": true
   },
   "outputs": [],
   "source": [
    "str(df2)"
   ]
  },
  {
   "cell_type": "code",
   "execution_count": null,
   "id": "33cc12be-2fbf-44ca-9113-3cb4db188129",
   "metadata": {},
   "outputs": [],
   "source": [
    "str(df3)"
   ]
  },
  {
   "cell_type": "code",
   "execution_count": null,
   "id": "eabf1bb5-a187-4b6f-8b34-1e3d2e3252a6",
   "metadata": {},
   "outputs": [],
   "source": [
    "str(df_1)"
   ]
  },
  {
   "cell_type": "code",
   "execution_count": null,
   "id": "1b94bfdd-d77c-49bb-b148-a005e5222cb0",
   "metadata": {},
   "outputs": [],
   "source": [
    "str(df_2)"
   ]
  },
  {
   "cell_type": "code",
   "execution_count": null,
   "id": "d3850741-930c-440e-8975-c5bf3b5bafc6",
   "metadata": {
    "scrolled": true
   },
   "outputs": [],
   "source": [
    "str(df_3)"
   ]
  },
  {
   "cell_type": "code",
   "execution_count": null,
   "id": "6e9ffae0-6a79-43ea-84a4-e8eaa55d499e",
   "metadata": {},
   "outputs": [],
   "source": [
    "str(DF1)"
   ]
  },
  {
   "cell_type": "code",
   "execution_count": null,
   "id": "08ce2367-40ec-4fce-953f-a5d0aae8b10c",
   "metadata": {},
   "outputs": [],
   "source": [
    "str(DF2)"
   ]
  },
  {
   "cell_type": "code",
   "execution_count": null,
   "id": "b379eb8b-aa7c-4954-aa5d-64b4809c5f46",
   "metadata": {},
   "outputs": [],
   "source": [
    "str(DF3)"
   ]
  },
  {
   "cell_type": "code",
   "execution_count": null,
   "id": "1f826bff-80d2-4844-9a17-08c3e2ca9da2",
   "metadata": {},
   "outputs": [],
   "source": [
    "length(df1$NAME)"
   ]
  },
  {
   "cell_type": "code",
   "execution_count": null,
   "id": "1e5a781e-297a-4e63-affd-3d0932229b90",
   "metadata": {},
   "outputs": [],
   "source": [
    "sort(df_1$NAME)"
   ]
  },
  {
   "cell_type": "code",
   "execution_count": null,
   "id": "ee390741-ff5b-4e9d-b07b-61b7c6a67a01",
   "metadata": {},
   "outputs": [],
   "source": [
    "sort(df_2$NAME)\n",
    "length(df_2$NAME)"
   ]
  },
  {
   "cell_type": "code",
   "execution_count": null,
   "id": "1a6d117c-f489-48fe-b202-81a8a7c1fd6e",
   "metadata": {},
   "outputs": [],
   "source": [
    "sort(df2$NAME)\n",
    "length(df2$NAME)"
   ]
  },
  {
   "cell_type": "code",
   "execution_count": null,
   "id": "2726a3f6-3399-4cf6-9b45-206997613bff",
   "metadata": {},
   "outputs": [],
   "source": [
    "sort(DF2$NAME)\n",
    "length(DF2$NAME)"
   ]
  },
  {
   "cell_type": "code",
   "execution_count": null,
   "id": "add31872-897b-44f2-ac59-652439f89733",
   "metadata": {},
   "outputs": [],
   "source": [
    "# Here the column type must match up to filtered counties column type for 'NAME' that is what we will merge them by later on\n",
    "df1$NAME <- as.character(df1$NAME)\n",
    "df2$NAME <- as.character(df2$NAME)\n",
    "df3$NAME <- as.character(df3$NAME)"
   ]
  },
  {
   "cell_type": "code",
   "execution_count": null,
   "id": "8d6f33a1-eeb0-4e64-9a3d-ff0815d35478",
   "metadata": {},
   "outputs": [],
   "source": [
    "df_1$NAME <- as.character(df_1$NAME)\n",
    "df_2$NAME <- as.character(df_2$NAME)\n",
    "df_3$NAME <- as.character(df_3$NAME)"
   ]
  },
  {
   "cell_type": "code",
   "execution_count": null,
   "id": "7ecc19cd-0aae-4208-bfff-cfd4d62393a8",
   "metadata": {},
   "outputs": [],
   "source": [
    "DF1$NAME <- as.character(DF1$NAME)\n",
    "DF2$NAME <- as.character(DF2$NAME)\n",
    "DF3$NAME <- as.character(DF3$NAME)"
   ]
  },
  {
   "cell_type": "code",
   "execution_count": null,
   "id": "b0dd85d8-ec18-492d-b891-6128e2ded913",
   "metadata": {},
   "outputs": [],
   "source": [
    "DF_1$NAME <- as.character(DF_1$NAME)\n",
    "DF_2$NAME <- as.character(DF_2$NAME)\n",
    "DF_3$NAME <- as.character(DF_3$NAME)"
   ]
  },
  {
   "cell_type": "code",
   "execution_count": null,
   "id": "4f9bced2-5729-4187-93d5-c55244a45891",
   "metadata": {},
   "outputs": [],
   "source": [
    "DataF1$NAME <- as.character(DataF1$NAME)\n",
    "DataF2$NAME <- as.character(DataF2$NAME)\n",
    "DataF3$NAME <- as.character(DataF3$NAME)"
   ]
  },
  {
   "cell_type": "markdown",
   "id": "c50b170d-525a-4c47-8a22-b5202e09b6a2",
   "metadata": {},
   "source": [
    "################################# ################################# ################################# \n",
    "This was added to resolve the tract 113.10 issue [see the code below with the same hastags"
   ]
  },
  {
   "cell_type": "code",
   "execution_count": null,
   "id": "68e22327-a51a-4ebf-aff4-0103beb17e05",
   "metadata": {},
   "outputs": [],
   "source": [
    "filtered_counties2$NAME <- as.character(filtered_counties2$NAME)\n",
    "str(filtered_counties2)"
   ]
  },
  {
   "cell_type": "code",
   "execution_count": null,
   "id": "0bebe7bf-2eff-46f5-aed7-7a09750a9952",
   "metadata": {},
   "outputs": [],
   "source": [
    "filtered_counties2$NAME[filtered_counties2$NAME == \"113.10\"] <- \"113.1\""
   ]
  },
  {
   "cell_type": "markdown",
   "id": "27cfb515-68f3-4434-b341-0aa35888b3f8",
   "metadata": {},
   "source": [
    "################################# ################################# ################################# "
   ]
  },
  {
   "cell_type": "code",
   "execution_count": null,
   "id": "fbd49f89-9cd9-4415-8218-7bfe4cfacc7c",
   "metadata": {},
   "outputs": [],
   "source": [
    "# merge filtered counties with df_1, and then merge that dataframe with dataframe df1. Then merge with DF1\n",
    "counties1 <- merge(filtered_counties1, df_1, by = \"NAME\", all.x = TRUE)\n",
    "counties_1 <- merge(counties1, df1, by = \"NAME\", all.x = TRUE)\n",
    "Counties1 <- merge(counties_1, DF1, by = \"NAME\", all.x = TRUE)\n",
    "COUNTIES1 <- merge(Counties1, DataF1, by = \"NAME\", all.x = TRUE)\n",
    "Counties_1 <- merge(COUNTIES1, DF_1, by = \"NAME\", all.x = TRUE)"
   ]
  },
  {
   "cell_type": "code",
   "execution_count": null,
   "id": "87c3549c-8d9e-4bcd-ba19-c3a0992c1f10",
   "metadata": {},
   "outputs": [],
   "source": [
    "# merge filtered counties with df_2, and then merge that dataframe with dataframe df2. Then merge with DF2\n",
    "counties2 <- merge(filtered_counties2, df_2, by = \"NAME\", all.x = TRUE)\n",
    "counties_2 <- merge(counties2, df2, by = \"NAME\", all.x = TRUE)\n",
    "Counties2 <- merge(counties_2, DF2, by = \"NAME\", all.x = TRUE)\n",
    "COUNTIES2 <- merge(Counties2, DataF2, by = \"NAME\", all.x = TRUE)\n",
    "Counties_2 <- merge(COUNTIES2, DF_2, by = \"NAME\", all.x = TRUE)"
   ]
  },
  {
   "cell_type": "code",
   "execution_count": null,
   "id": "8ad13ecb-3479-45bc-bdc3-8b79c0f53e77",
   "metadata": {},
   "outputs": [],
   "source": [
    "# merge filtered counties with df_3, and then merge that dataframe with dataframe df3. Then merge with DF3\n",
    "counties3 <- merge(filtered_counties3, df_3, by = \"NAME\", all.x = TRUE)\n",
    "counties_3 <- merge(counties3, df3, by = \"NAME\", all.x = TRUE)\n",
    "Counties3 <- merge(counties_3, DF3, by = \"NAME\", all.x = TRUE)\n",
    "COUNTIES_3 <- merge(Counties3, DataF3, by = \"NAME\", all.x = TRUE)\n",
    "Counties_3 <- merge(COUNTIES_3, DF_3, by = \"NAME\", all.x = TRUE)"
   ]
  },
  {
   "cell_type": "code",
   "execution_count": null,
   "id": "0e0c854d-b0bb-4a4e-a8ff-a614b7e0d2a2",
   "metadata": {},
   "outputs": [],
   "source": [
    "DataF3"
   ]
  },
  {
   "cell_type": "code",
   "execution_count": null,
   "id": "9d88d1b7-138b-4223-8fbe-c67c0a7f4a30",
   "metadata": {},
   "outputs": [],
   "source": [
    "COUNTIES_3"
   ]
  },
  {
   "cell_type": "code",
   "execution_count": null,
   "id": "b9d4acb7-a939-4e8d-8319-925e26f93fda",
   "metadata": {
    "scrolled": true
   },
   "outputs": [],
   "source": [
    "Counties_3$CensusReporter_Link"
   ]
  },
  {
   "cell_type": "code",
   "execution_count": null,
   "id": "f81da92b-772c-4f18-8902-2d7dfec75389",
   "metadata": {
    "scrolled": true
   },
   "outputs": [],
   "source": [
    "# checking the strucure of counties1\n",
    "str(Counties_1)"
   ]
  },
  {
   "cell_type": "code",
   "execution_count": null,
   "id": "dff819c2-27a3-4e56-9e3f-ce97db8baba2",
   "metadata": {},
   "outputs": [],
   "source": [
    "length(Counties_1$NAME)"
   ]
  },
  {
   "cell_type": "code",
   "execution_count": null,
   "id": "34dc0198-594f-4171-86a1-1a880bcf1039",
   "metadata": {},
   "outputs": [],
   "source": [
    "sort(Counties_1$NAME)"
   ]
  },
  {
   "cell_type": "code",
   "execution_count": null,
   "id": "dc4ad523-7381-43b4-900d-70061505525a",
   "metadata": {},
   "outputs": [],
   "source": [
    "sort(df1$NAME)"
   ]
  },
  {
   "cell_type": "code",
   "execution_count": null,
   "id": "917124a5-8e9f-42bc-9b15-1638dbaab150",
   "metadata": {
    "scrolled": true
   },
   "outputs": [],
   "source": [
    "str(Counties_2)"
   ]
  },
  {
   "cell_type": "code",
   "execution_count": null,
   "id": "88495e03-0ac2-423b-b611-c84cdf084ff4",
   "metadata": {},
   "outputs": [],
   "source": [
    "# checking the structure of counties3\n",
    "str(Counties_3)"
   ]
  },
  {
   "cell_type": "code",
   "execution_count": null,
   "id": "7f774854-6a3c-4d1b-8cb3-f64de57db208",
   "metadata": {},
   "outputs": [],
   "source": [
    "# creating the poverty variable\n",
    "Counties_1$POVERTY <- Counties_1$Income.in.the.past.12.months.below.poverty.level.\n",
    "length(names(Counties1))"
   ]
  },
  {
   "cell_type": "code",
   "execution_count": null,
   "id": "36bb3af3-7e6c-4301-8fd5-7f9218285322",
   "metadata": {},
   "outputs": [],
   "source": [
    "# creating the poverty variable\n",
    "Counties_2$POVERTY <- Counties_2$Income.in.the.past.12.months.below.poverty.level.\n",
    "length(names(Counties2))"
   ]
  },
  {
   "cell_type": "code",
   "execution_count": null,
   "id": "b0edee4a-3a3f-40c1-99be-0e40b9581323",
   "metadata": {},
   "outputs": [],
   "source": [
    "# creating the poverty variable\n",
    "Counties_3$POVERTY <- Counties_3$Income.in.the.past.12.months.below.poverty.level.\n",
    "length(names(Counties3))"
   ]
  },
  {
   "cell_type": "code",
   "execution_count": null,
   "id": "f9d2b611-70aa-41f8-87e4-4988bbe69eb0",
   "metadata": {
    "scrolled": true
   },
   "outputs": [],
   "source": [
    "colnames(Counties_1)"
   ]
  },
  {
   "cell_type": "code",
   "execution_count": null,
   "id": "ec31ebc6-2d77-4503-a402-45784e24c376",
   "metadata": {
    "scrolled": true
   },
   "outputs": [],
   "source": [
    "Counties_1$Income.in.the.past.12.months.below.poverty.level."
   ]
  },
  {
   "cell_type": "code",
   "execution_count": null,
   "id": "c56ad856-e8b2-4767-afab-3dc638c8acd3",
   "metadata": {},
   "outputs": [],
   "source": [
    "# renaming poverty levels so that it is easier to work with\n",
    "Counties_1 <- Counties_1 %>%\n",
    "  rename(Poverty_Level = Income.in.the.past.12.months.below.poverty.level.)"
   ]
  },
  {
   "cell_type": "code",
   "execution_count": null,
   "id": "7095b8b1-340f-4f09-bf31-1f6f4d0632a5",
   "metadata": {},
   "outputs": [],
   "source": [
    "# ensuring that the data actually displays\n",
    "Counties_1$Poverty_Level"
   ]
  },
  {
   "cell_type": "code",
   "execution_count": null,
   "id": "175548a6-905c-4cf2-aa0b-ea22723af19b",
   "metadata": {},
   "outputs": [],
   "source": [
    "# renaming poverty levels so that it is easier to work with\n",
    "Counties_2 <- Counties_2 %>%\n",
    "  rename(Poverty_Level = Income.in.the.past.12.months.below.poverty.level.)"
   ]
  },
  {
   "cell_type": "code",
   "execution_count": null,
   "id": "056d8ec1-3389-4ce0-86fc-ba20115d39f1",
   "metadata": {},
   "outputs": [],
   "source": [
    "# renaming poverty levels so that it is easier to work with\n",
    "Counties_3 <- Counties_3 %>%\n",
    "  rename(Poverty_Level = Income.in.the.past.12.months.below.poverty.level.)"
   ]
  },
  {
   "cell_type": "code",
   "execution_count": null,
   "id": "6f5b86a8-a4ef-4fda-a7f8-0f94cfba82e7",
   "metadata": {},
   "outputs": [],
   "source": [
    "Counties_2$Poverty_Level"
   ]
  },
  {
   "cell_type": "markdown",
   "id": "86f6b58e-1587-443f-bb1d-9aba5d4b474b",
   "metadata": {},
   "source": [
    "############################################################################################################################################\n",
    "There is an issue here so this part is going to mainly focus on the issue with the merge from tract 113.10"
   ]
  },
  {
   "cell_type": "code",
   "execution_count": null,
   "id": "f73e78c7-b733-4baf-8592-5745aaf32b6b",
   "metadata": {
    "scrolled": true
   },
   "outputs": [],
   "source": [
    "# Tract 113.10 is missing a lot\n",
    "Counties_2 %>%\n",
    "  filter(if_any(everything(), is.na)) "
   ]
  },
  {
   "cell_type": "code",
   "execution_count": null,
   "id": "ff3d7bf1-5cbe-4365-b08e-d05ee6995750",
   "metadata": {
    "scrolled": true
   },
   "outputs": [],
   "source": [
    "# so we have a value displaying for tract 113.10 in df_2\n",
    "df_2$Median.Income."
   ]
  },
  {
   "cell_type": "code",
   "execution_count": null,
   "id": "368437cc-efe9-4be1-b55c-12467e6d8e14",
   "metadata": {},
   "outputs": [],
   "source": [
    "df2$Male..total.."
   ]
  },
  {
   "cell_type": "code",
   "execution_count": null,
   "id": "2e77701f-04e4-441d-ab2e-da3115fd5ca4",
   "metadata": {},
   "outputs": [],
   "source": [
    "DF2$Income.in.the.past.12.months.below.poverty.level."
   ]
  },
  {
   "cell_type": "markdown",
   "id": "b73caa52-587b-48c3-9c95-6f242e6381c5",
   "metadata": {},
   "source": [
    "So each of the individual data frames has data for tract 113.10.\n",
    "\n",
    "As soon as the first merge is completed we lost the data for Tract 113.10\n",
    "It is important to examine the filtered_counties2 to see why"
   ]
  },
  {
   "cell_type": "code",
   "execution_count": null,
   "id": "fb77d3b2-5a2f-4a25-a4b7-2ab2d3e847fb",
   "metadata": {
    "scrolled": true
   },
   "outputs": [],
   "source": [
    "#filtered_counties2[filtered_counties2$NAME == '113.10', ]"
   ]
  },
  {
   "cell_type": "code",
   "execution_count": null,
   "id": "975c384b-f4d8-4748-9781-c4c7a3370524",
   "metadata": {
    "scrolled": true
   },
   "outputs": [],
   "source": [
    "sort(filtered_counties2$NAME)"
   ]
  },
  {
   "cell_type": "code",
   "execution_count": null,
   "id": "f2b41606-feed-4400-9e15-8ce86fa36fc8",
   "metadata": {
    "scrolled": true
   },
   "outputs": [],
   "source": [
    "sort(df_2$NAME)"
   ]
  },
  {
   "cell_type": "code",
   "execution_count": null,
   "id": "211dc332-50aa-42c0-926f-aacafa9866a3",
   "metadata": {
    "scrolled": true
   },
   "outputs": [],
   "source": [
    "#df_2[df_2$NAME == 113.10, ]"
   ]
  },
  {
   "cell_type": "code",
   "execution_count": null,
   "id": "baa59ca4-c93e-4584-aee3-8a593c113f02",
   "metadata": {},
   "outputs": [],
   "source": [
    "#df2[df_2$NAME == 113.10, ]"
   ]
  },
  {
   "cell_type": "code",
   "execution_count": null,
   "id": "98a5618a-e6e7-4503-9e2a-96132c0c07bb",
   "metadata": {},
   "outputs": [],
   "source": [
    "#DF2[df_2$NAME == '113.10', ]"
   ]
  },
  {
   "cell_type": "code",
   "execution_count": null,
   "id": "560407e1-439f-401a-9edb-2666ac42d9bc",
   "metadata": {},
   "outputs": [],
   "source": [
    "counties2$Median.Income."
   ]
  },
  {
   "cell_type": "markdown",
   "id": "3ba2a1ca-a59d-45ec-94d0-8406de0f4e6b",
   "metadata": {},
   "source": [
    "So the issue has been resolved, the intial geometry data frame 'filtered_counties2' had the NAME column as a num type and all of\n",
    "the other dataframes were chr type. This was a problem because all the dataframes have it as 113.1 as opposed the zero on the end\n",
    "######################################################################################################################"
   ]
  },
  {
   "cell_type": "code",
   "execution_count": null,
   "id": "ea99e646-e609-4623-8c73-e6ecacd3ffcf",
   "metadata": {},
   "outputs": [],
   "source": [
    "Counties_3$Poverty_Level"
   ]
  },
  {
   "cell_type": "markdown",
   "id": "67534bea-936f-4e52-be0f-e1daf9f0eaf5",
   "metadata": {},
   "source": [
    "I am now going to begin work on creating the under 18 and over 65 columns"
   ]
  },
  {
   "cell_type": "code",
   "execution_count": null,
   "id": "634b1e97-8315-404b-a788-2ef0394470a0",
   "metadata": {
    "scrolled": true
   },
   "outputs": [],
   "source": [
    "# Istarted with counties_2 as a precaution just to make sure \n",
    "colnames(Counties_2)"
   ]
  },
  {
   "cell_type": "code",
   "execution_count": null,
   "id": "29543d54-0eb3-4067-8514-6290c41fc48c",
   "metadata": {},
   "outputs": [],
   "source": [
    "Counties_2$Male..Under.5.years.x"
   ]
  },
  {
   "cell_type": "markdown",
   "id": "e45e3111-c28f-4d30-8b52-0516b859eddf",
   "metadata": {},
   "source": [
    "This is the section to create under 18"
   ]
  },
  {
   "cell_type": "code",
   "execution_count": null,
   "id": "b176c618-36e9-4469-913d-875e8fb5a181",
   "metadata": {},
   "outputs": [],
   "source": [
    "Counties_2$Under_18 <- Counties_2$Male..Under.5.years.x +\n",
    "                        Counties_2$Male..5.to.9.years +\n",
    "                        Counties_2$Male..10.to.14.years +\n",
    "                        Counties_2$Male..15.to.17.years +\n",
    "                        Counties_2$Female..Under.5.years.x +\n",
    "                        Counties_2$Female..5.to.9.years +\n",
    "                        Counties_2$Female..10.to.14.years +\n",
    "                        Counties_2$Female..15.to.17.years\n",
    "Counties_2$Under_18"
   ]
  },
  {
   "cell_type": "code",
   "execution_count": null,
   "id": "9f1a8550-ae7d-47d3-9477-2ac318532f9b",
   "metadata": {},
   "outputs": [],
   "source": [
    "Counties_2$Under_18Per <- (Counties_2$Under_18 / Counties_2$Total) * 100"
   ]
  },
  {
   "cell_type": "code",
   "execution_count": null,
   "id": "efef3285-702e-4c8c-a03a-67d17b5fc700",
   "metadata": {},
   "outputs": [],
   "source": [
    "Counties_1$Under_18 <- Counties_1$Male..Under.5.years.x +\n",
    "                        Counties_1$Male..5.to.9.years +\n",
    "                        Counties_1$Male..10.to.14.years +\n",
    "                        Counties_1$Male..15.to.17.years +\n",
    "                        Counties_1$Female..Under.5.years.x +\n",
    "                        Counties_1$Female..5.to.9.years +\n",
    "                        Counties_1$Female..10.to.14.years +\n",
    "                        Counties_1$Female..15.to.17.years\n",
    "Counties_1$Under_18"
   ]
  },
  {
   "cell_type": "code",
   "execution_count": null,
   "id": "79d84c1d-1fc6-49ae-b55d-59ec962e2d06",
   "metadata": {},
   "outputs": [],
   "source": [
    "Counties_1$Under_18Per <- (Counties_1$Under_18 / Counties_1$Total) * 100"
   ]
  },
  {
   "cell_type": "code",
   "execution_count": null,
   "id": "0e3d4a45-c2ee-4b91-88f1-dcc3bb0ba24f",
   "metadata": {},
   "outputs": [],
   "source": [
    "Counties_3$Under_18 <- Counties_3$Male..Under.5.years.x +\n",
    "                        Counties_3$Male..5.to.9.years +\n",
    "                        Counties_3$Male..10.to.14.years +\n",
    "                        Counties_3$Male..15.to.17.years +\n",
    "                        Counties_3$Female..Under.5.years.x +\n",
    "                        Counties_3$Female..5.to.9.years +\n",
    "                        Counties_3$Female..10.to.14.years +\n",
    "                        Counties_3$Female..15.to.17.years\n",
    "Counties_3$Under_18"
   ]
  },
  {
   "cell_type": "code",
   "execution_count": null,
   "id": "99329397-efc3-43d7-a905-b46ac1c95ddf",
   "metadata": {},
   "outputs": [],
   "source": [
    "Counties_3$Under_18Per <- (Counties_3$Under_18 / Counties_3$Total) * 100"
   ]
  },
  {
   "cell_type": "markdown",
   "id": "4fe5e1d6-2cb8-43b1-9755-5b8771b4d526",
   "metadata": {},
   "source": [
    "############################### "
   ]
  },
  {
   "cell_type": "markdown",
   "id": "1b06aed3-2a8c-4934-b115-bc2b94648118",
   "metadata": {},
   "source": [
    "This is the section to create over 65"
   ]
  },
  {
   "cell_type": "code",
   "execution_count": null,
   "id": "32c72ca1-cf95-46da-b2a4-d8d985eb4917",
   "metadata": {},
   "outputs": [],
   "source": [
    "Counties_2$Over_65 <- Counties_2$Male..65.and.66.years +\n",
    "                        Counties_2$Male..67.to.69.years +\n",
    "                        Counties_2$Male..70.to.74.years +\n",
    "                        Counties_2$Male..75.to.79.years +\n",
    "                        Counties_2$Male..80.to.84.years +\n",
    "                        Counties_2$Male..85.years.and.over +\n",
    "                        Counties_2$Female..65.and.66.years +\n",
    "                        Counties_2$Female..67.to.69.years +\n",
    "                        Counties_2$Female..70.to.74.years +\n",
    "                        Counties_2$Female..75.to.79.years +\n",
    "                        Counties_2$Female..80.to.84.years +\n",
    "                        Counties_2$Female..85.years.and.over\n",
    "Counties_2$Over_65"
   ]
  },
  {
   "cell_type": "code",
   "execution_count": null,
   "id": "ce9b4349-8e47-4e07-b532-b6a9f8e96ea4",
   "metadata": {},
   "outputs": [],
   "source": [
    "Counties_2$Over_65Per <- (Counties_2$Over_65 / Counties_2$Total) * 100\n",
    "Counties_2$Over_65Per"
   ]
  },
  {
   "cell_type": "code",
   "execution_count": null,
   "id": "efeb381f-417f-4e12-ad01-2b7e53045a6a",
   "metadata": {},
   "outputs": [],
   "source": [
    "Counties_1$Over_65 <- Counties_1$Male..65.and.66.years +\n",
    "                        Counties_1$Male..67.to.69.years +\n",
    "                        Counties_1$Male..70.to.74.years +\n",
    "                        Counties_1$Male..75.to.79.years +\n",
    "                        Counties_1$Male..80.to.84.years +\n",
    "                        Counties_1$Male..85.years.and.over +\n",
    "                        Counties_1$Female..65.and.66.years +\n",
    "                        Counties_1$Female..67.to.69.years +\n",
    "                        Counties_1$Female..70.to.74.years +\n",
    "                        Counties_1$Female..75.to.79.years +\n",
    "                        Counties_1$Female..80.to.84.years +\n",
    "                        Counties_1$Female..85.years.and.over\n",
    "Counties_1$Over_65"
   ]
  },
  {
   "cell_type": "code",
   "execution_count": null,
   "id": "6ccddfa3-5cd7-428c-aac6-4c62f5fee523",
   "metadata": {},
   "outputs": [],
   "source": [
    "Counties_1$Over_65Per <- (Counties_1$Over_65 / Counties_1$Total) * 100\n",
    "Counties_1$Over_65Per"
   ]
  },
  {
   "cell_type": "code",
   "execution_count": null,
   "id": "7797106d-b490-4f0b-8087-f8fbdc83458e",
   "metadata": {},
   "outputs": [],
   "source": [
    "Counties_3$Over_65 <- Counties_3$Male..65.and.66.years +\n",
    "                        Counties_3$Male..67.to.69.years +\n",
    "                        Counties_3$Male..70.to.74.years +\n",
    "                        Counties_3$Male..75.to.79.years +\n",
    "                        Counties_3$Male..80.to.84.years +\n",
    "                        Counties_3$Male..85.years.and.over +\n",
    "                        Counties_3$Female..65.and.66.years +\n",
    "                        Counties_3$Female..67.to.69.years +\n",
    "                        Counties_3$Female..70.to.74.years +\n",
    "                        Counties_3$Female..75.to.79.years +\n",
    "                        Counties_3$Female..80.to.84.years +\n",
    "                        Counties_3$Female..85.years.and.over\n",
    "Counties_3$Over_65"
   ]
  },
  {
   "cell_type": "code",
   "execution_count": null,
   "id": "a568ecfd-613f-487f-be4e-5a72c0f403e1",
   "metadata": {
    "scrolled": true
   },
   "outputs": [],
   "source": [
    "Counties_3$Over_65Per <- (Counties_3$Over_65 / Counties_3$Total) * 100\n",
    "Counties_3$Over_65Per"
   ]
  },
  {
   "cell_type": "code",
   "execution_count": null,
   "id": "11df48e4-c638-4ff8-a93f-0af3aef57864",
   "metadata": {},
   "outputs": [],
   "source": [
    "colnames(Counties_1)"
   ]
  },
  {
   "cell_type": "code",
   "execution_count": null,
   "id": "7358f4a6-f754-4605-9c3e-c6586703d291",
   "metadata": {},
   "outputs": [],
   "source": [
    "# Now we will select the columns of interest\n",
    "Selected_1 <- Counties_1 %>% select(NAME, Median.Income., Over_65Per, Under_18Per, POVERTY, CensusReporter_Link)\n",
    "Selected_2 <- Counties_2 %>% select(NAME, Median.Income., Over_65Per, Under_18Per, POVERTY, CensusReporter_Link)\n",
    "Selected_3 <- Counties_3 %>% select(NAME, Median.Income., Over_65Per, Under_18Per, POVERTY, CensusReporter_Link)"
   ]
  },
  {
   "cell_type": "code",
   "execution_count": null,
   "id": "97550d1c-2f8c-49ee-bce4-4976c67cbee5",
   "metadata": {
    "scrolled": true
   },
   "outputs": [],
   "source": [
    "str(Selected_1)"
   ]
  },
  {
   "cell_type": "code",
   "execution_count": null,
   "id": "300f563a-3928-4238-9eb0-1e26740e41f2",
   "metadata": {},
   "outputs": [],
   "source": [
    "Selected_1$Median.Income. <- as.numeric(gsub(\"[\\\\$,]\", \"\", Selected_1$Median.Income.))"
   ]
  },
  {
   "cell_type": "code",
   "execution_count": null,
   "id": "1324810c-7433-4e4c-8717-585ea7b1f834",
   "metadata": {},
   "outputs": [],
   "source": [
    "str(Selected_1)"
   ]
  },
  {
   "cell_type": "code",
   "execution_count": null,
   "id": "a1043dd6-b2d1-4bcb-8a44-daa163cc03c5",
   "metadata": {},
   "outputs": [],
   "source": [
    "str(Selected_2)\n",
    "# it appears we have lost an observation here somehow assuming that this one is tract 113.10"
   ]
  },
  {
   "cell_type": "code",
   "execution_count": null,
   "id": "d16837bc-51f2-4671-a8d0-efe5f7b7f251",
   "metadata": {
    "scrolled": true
   },
   "outputs": [],
   "source": [
    "str(Selected_3)"
   ]
  },
  {
   "cell_type": "code",
   "execution_count": null,
   "id": "90277cf9-bcdc-4f6e-b70b-592d7d76051b",
   "metadata": {},
   "outputs": [],
   "source": [
    "merged_df <- rbind(Selected_1, Selected_2, Selected_3)"
   ]
  },
  {
   "cell_type": "code",
   "execution_count": null,
   "id": "aea6cdf7-e995-45eb-9442-89f0373d82f2",
   "metadata": {
    "scrolled": true
   },
   "outputs": [],
   "source": [
    "str(merged_df)"
   ]
  },
  {
   "cell_type": "code",
   "execution_count": null,
   "id": "4f600902-d666-4b50-b036-96403f7313e7",
   "metadata": {
    "scrolled": true
   },
   "outputs": [],
   "source": [
    "library(leaflet)\n",
    "library(htmlwidgets)\n",
    "library(dplyr)\n",
    "\n",
    "# Convert character columns to numeric values by removing non-numeric characters.\n",
    "# This creates new columns 'MedianIncomeNum' and 'PovertyNum'.\n",
    "merged_df <- merged_df %>%\n",
    "  mutate(\n",
    "    MedianIncomeNum = as.numeric(gsub(\"[^0-9.-]\", \"\", Median.Income.)),\n",
    "    PovertyNum = as.numeric(gsub(\"[^0-9.-]\", \"\", POVERTY))\n",
    "  )\n",
    "\n",
    "# Create color palettes for each variable using the numeric versions for Median Income and Poverty\n",
    "pal_under18 <- colorNumeric(palette = \"BuPu\", domain = merged_df$Under_18Per)\n",
    "pal_over65  <- colorNumeric(palette = \"YlOrRd\", domain = merged_df$Over_65Per)\n",
    "pal_income  <- colorNumeric(palette = \"Greens\", domain = merged_df$MedianIncomeNum)\n",
    "pal_poverty <- colorNumeric(palette = \"Reds\", domain = merged_df$PovertyNum)\n",
    "\n",
    "# Build the leaflet map with each variable as a separate base layer\n",
    "map <- leaflet(merged_df) %>% \n",
    "  addProviderTiles(\"OpenStreetMap\") %>%\n",
    "  \n",
    "  # Under 18 layer\n",
    "  addPolygons(fillColor = ~pal_under18(Under_18Per),\n",
    "              group = \"Under 18\",\n",
    "              weight = 0.5,\n",
    "              fillOpacity = 0.9,\n",
    "              label = ~paste(\"County:\", NAME, \n",
    "                             \"Percent Under 18:\", sprintf(\"%.2f\", Under_18Per), \"%\")) %>%\n",
    "  \n",
    "  # Over 65 layer\n",
    "  addPolygons(fillColor = ~pal_over65(Over_65Per),\n",
    "              group = \"Over 65\",\n",
    "              weight = 0.5,\n",
    "              fillOpacity = 0.9,\n",
    "              label = ~paste(\"County:\", NAME, \n",
    "                             \"Percent Over 65:\", sprintf(\"%.2f\", Over_65Per), \"%\")) %>%\n",
    "  \n",
    "  # Median Income layer (using original character data for the label)\n",
    "  addPolygons(fillColor = ~pal_income(MedianIncomeNum),\n",
    "              group = \"Median Income\",\n",
    "              weight = 0.5,\n",
    "              fillOpacity = 0.9,\n",
    "              label = ~paste(\"County:\", NAME, \n",
    "                             \"Median Income:\", Median.Income.)) %>%\n",
    "  \n",
    "  # Poverty layer (using original character data for the label)\n",
    "  addPolygons(fillColor = ~pal_poverty(PovertyNum),\n",
    "              group = \"Poverty\",\n",
    "              weight = 0.5,\n",
    "              fillOpacity = 0.9,\n",
    "              label = ~paste(\"County:\", NAME, \n",
    "                             \"Poverty:\", POVERTY)) %>%\n",
    "  \n",
    "  # Layers control to switch between base layers\n",
    "  addLayersControl(\n",
    "    baseGroups = c(\"Under 18\", \"Over 65\", \"Median Income\", \"Poverty\"),\n",
    "    options = layersControlOptions(collapsed = FALSE)\n",
    "  )\n",
    "\n",
    "map"
   ]
  },
  {
   "cell_type": "code",
   "execution_count": null,
   "id": "9422181d-6939-4fd1-8937-8b7751d08393",
   "metadata": {
    "scrolled": true
   },
   "outputs": [],
   "source": [
    "library(leaflet)\n",
    "library(scales)\n",
    "\n",
    "map <- leaflet(merged_df) %>% \n",
    "  addProviderTiles(\"CartoDB.Positron\") %>%  # Changed to CartoDB base layer\n",
    "  \n",
    "  # Under 18 layer + legend\n",
    "  addPolygons(fillColor = ~pal_under18(Under_18Per),\n",
    "              group = \"Under 18\",\n",
    "              weight = 0.5,\n",
    "              fillOpacity = 0.6,\n",
    "              label = ~paste0(\"Tract: \", NAME, \n",
    "                             \"\\nPercent Under 18: \", sprintf(\"%.1f\", Under_18Per), \"%\"),\n",
    "              labelOptions = labelOptions(\n",
    "                style = list(\"white-space\" = \"pre\", \"font-weight\" = \"bold\"),\n",
    "                direction = \"auto\")) %>%\n",
    "  addLegend(position = \"bottomleft\",\n",
    "            pal = pal_under18, \n",
    "            values = ~Under_18Per,\n",
    "            title = \"Under 18 (%)\",\n",
    "            group = \"Under 18\") %>%\n",
    "  \n",
    "  # Over 65 layer + legend\n",
    "  addPolygons(fillColor = ~pal_over65(Over_65Per),\n",
    "              group = \"Over 65\",\n",
    "              weight = 0.5,\n",
    "              fillOpacity = 0.6,\n",
    "              label = ~paste0(\"Tract: \", NAME, \n",
    "                             \"\\nPercent Over 65: \", sprintf(\"%.1f\", Over_65Per), \"%\"),\n",
    "              labelOptions = labelOptions(\n",
    "                style = list(\"white-space\" = \"pre\", \"font-weight\" = \"bold\"),\n",
    "                direction = \"auto\")) %>%\n",
    "  addLegend(position = \"bottomleft\",\n",
    "            pal = pal_over65,\n",
    "            values = ~Over_65Per,\n",
    "            title = \"Over 65 (%)\",\n",
    "            group = \"Over 65\") %>%\n",
    "  \n",
    "  # Median Income layer + legend\n",
    "  addPolygons(fillColor = ~pal_income(MedianIncomeNum),\n",
    "              group = \"Median Income\",\n",
    "              weight = 0.5,\n",
    "              fillOpacity = 0.6,\n",
    "              label = ~paste0(\"Tract: \", NAME, \n",
    "                             \"\\nMedian Income: $\", comma(MedianIncomeNum)), \n",
    "              labelOptions = labelOptions(\n",
    "                style = list(\"white-space\" = \"pre\", \"font-weight\" = \"bold\"),\n",
    "                direction = \"auto\")) %>%\n",
    "  addLegend(position = \"bottomright\",\n",
    "            pal = pal_income,\n",
    "            values = ~MedianIncomeNum,\n",
    "            title = \"Median Income\",\n",
    "            group = \"Median Income\",\n",
    "            labFormat = labelFormat(prefix = \"$\")) %>%\n",
    "  \n",
    "  # Poverty layer + legend\n",
    "  addPolygons(fillColor = ~pal_poverty(PovertyNum),\n",
    "              group = \"Poverty\",\n",
    "              weight = 0.5,\n",
    "              fillOpacity = 0.6,\n",
    "              label = ~paste0(\"Tract: \", NAME, \n",
    "                             \"\\nPoverty Level: \", sprintf(\"%.1f\", PovertyNum), \"%\"),\n",
    "              labelOptions = labelOptions(\n",
    "                style = list(\"white-space\" = \"pre\", \"font-weight\" = \"bold\"),\n",
    "                direction = \"auto\")) %>%\n",
    "  addLegend(position = \"bottomright\",\n",
    "            pal = pal_poverty,\n",
    "            values = ~PovertyNum,\n",
    "            title = \"Poverty Level (%)\",\n",
    "            group = \"Poverty\") %>%\n",
    "  \n",
    "  # Layer control\n",
    "  addLayersControl(\n",
    "    baseGroups = c(\"Under 18\", \"Over 65\", \"Median Income\", \"Poverty\"),\n",
    "    options = layersControlOptions(collapsed = FALSE))"
   ]
  },
  {
   "cell_type": "code",
   "execution_count": null,
   "id": "2935b134-4919-489a-9ba5-a9137e2c82d8",
   "metadata": {
    "scrolled": true
   },
   "outputs": [],
   "source": [
    "map"
   ]
  },
  {
   "cell_type": "code",
   "execution_count": null,
   "id": "bc8206ae-3933-4b36-aeb4-73191cea2324",
   "metadata": {},
   "outputs": [],
   "source": [
    "# library(htmlwidgets)\n",
    "# saveWidget(map, file = \"map_demographicDB1.html\", selfcontained = TRUE)"
   ]
  },
  {
   "cell_type": "code",
   "execution_count": null,
   "id": "f0409efb-1598-4e0c-8692-cf1275382649",
   "metadata": {},
   "outputs": [],
   "source": [
    "# Load required libraries\n",
    "library(leaflet)\n",
    "library(tidygeocoder)\n",
    "library(dplyr)\n",
    "library(sf)\n",
    "library(htmlwidgets)"
   ]
  },
  {
   "cell_type": "code",
   "execution_count": null,
   "id": "08db3932-7b5b-46a7-99f0-bddc8c83039c",
   "metadata": {
    "scrolled": true
   },
   "outputs": [],
   "source": [
    "# Read and geocode pantry locations\n",
    "# pantries <- read.csv(\"CFR_Foodss.csv\") %>%\n",
    "#   geocode(address = Address, method = \"arcgis\") %>%  # Free geocoding service\n",
    "#   filter(!is.na(lat))  # Remove failed geocodes\n",
    "\n",
    "# The above file had locations not in the desired three counties. The new file only has pantries in the three counties\n",
    "pantries <- read.csv(\"UPDATE5_Final_Cleaned_Pantry_Locations.csv - Sheet1.csv\") %>%\n",
    "   geocode(address = Address, method = \"arcgis\") %>%  # Free geocoding service\n",
    "   filter(!is.na(lat))  # Remove failed geocodes"
   ]
  },
  {
   "cell_type": "code",
   "execution_count": null,
   "id": "e7bc20ec-223f-40a2-b33e-daa0b767575f",
   "metadata": {
    "scrolled": true
   },
   "outputs": [],
   "source": [
    "pantries"
   ]
  },
  {
   "cell_type": "code",
   "execution_count": null,
   "id": "ba105340-9bc3-4ddd-b67d-98607decb9ce",
   "metadata": {
    "scrolled": true
   },
   "outputs": [],
   "source": [
    "# Load in the TranspoRoutes shape file and transform to WGS84 coordinate system\n",
    "TranspoRoutes <- st_read(\"TranspoRoutes.shp\") %>% st_transform(4326)  "
   ]
  },
  {
   "cell_type": "code",
   "execution_count": null,
   "id": "69dbca59-b2ae-4114-9762-a22c5f139459",
   "metadata": {},
   "outputs": [],
   "source": [
    "# Checking what the data looks like\n",
    "# TranspoRoutes"
   ]
  },
  {
   "cell_type": "code",
   "execution_count": null,
   "id": "0f281fd5-28a9-44ff-abfd-dc1a639f64d5",
   "metadata": {
    "scrolled": true
   },
   "outputs": [],
   "source": [
    "# Getting the name so each line can be color customized\n",
    "# TranspoRoutes$line_name"
   ]
  },
  {
   "cell_type": "code",
   "execution_count": null,
   "id": "29d01aa6-399a-43da-ac63-70fd5912a40e",
   "metadata": {},
   "outputs": [],
   "source": [
    "# Custom color palette matching common transit map conventions\n",
    "route_colors <- c(\n",
    "  \"1 Madison / Mishawaka\" = \"navy\",  # Blue\n",
    "  \"10 Western Avenue\" = \"turquoise2\",       \n",
    "  \"11 Southside Mishawaka\" = \"maroon1\",  \n",
    "  \"12 Rum Village\" = \"midnightblue\",        \n",
    "  \"12/14 Rum Village / Sample\" = \"thistle\", \n",
    "  \"13 Corby / Town & Country\" = \"yellow\", # Yellow\n",
    "  \"14 Sample / Mayflower\" = \"mediumorchid4\",   \n",
    "  \"15A University Park Mall / Mishawaka (via Main Stree\" = \"saddlebrown\", \n",
    "  \"15B University Park Mall / Mishawaka (via Grape Road\" = \"burlywood4\", \n",
    "  \"16 Blackthorn Express\" = \"hotpink\",    # Pink\n",
    "  \"17 The Sweep\" = \"olivedrab2\",             \n",
    "  \"3A Portage\" = \"firebrick\",               \n",
    "  \"3B Portage\" = \"firebrick1\",               # Red \n",
    "  \"4 Lincolnway West / Excel Center / Airport\" = \"darkorange\", \n",
    "  \"5 North Michigan / Laurel Woods\" = \"navy\",            \n",
    "  \"6 South Michigan / Erskine Village\" = \"red2\",         \n",
    "  \"7 Notre Dame / University Park Mall\" = \"forestgreen\",        \n",
    "  \"7A Notre Dame Midnight Express\" = \"green3\",              \n",
    "  \"8 Miami / Scottsdale\" = \"turquoise\",      \n",
    "  \"8/6 Miami / Scottsdale / South Michigan / Erskine Vi\" = \"red2\", \n",
    "  \"9 Northside Mishawaka\" = \"magenta3\"      # Lavender\n",
    ")\n"
   ]
  },
  {
   "cell_type": "code",
   "execution_count": null,
   "id": "e25f6397-c270-417f-be20-4d6cc36bf4af",
   "metadata": {},
   "outputs": [],
   "source": [
    "# Create palette using cleaned names\n",
    "pal_routes <- colorFactor(\n",
    "  palette = route_colors,\n",
    "  domain = TranspoRoutes$clean_name,\n",
    "  na.color = \"#808080\"  # Safety net for any missed routes\n",
    ")"
   ]
  },
  {
   "cell_type": "code",
   "execution_count": null,
   "id": "8d1d82be-3e04-490c-bf7c-affee735dbde",
   "metadata": {
    "scrolled": true
   },
   "outputs": [],
   "source": [
    "# pipe bus routes to map\n",
    "# map1 <- map1 %>%\n",
    "#   addPolylines(\n",
    "#     data = TranspoRoutes,\n",
    "#     color = ~pal_routes(line_name),\n",
    "#     weight = 3,\n",
    "#     opacity = 0.8,\n",
    "#     group = \"Bus Routes\",\n",
    "#     label = ~line_name,\n",
    "#     popup = ~paste(\"<strong>Route:</strong>\", line_name)\n",
    "#   ) %>%\n",
    "\n",
    "#   # 3. Update layer controls to include bus routes\n",
    "#   addLayersControl(\n",
    "#     overlayGroups = c(\"Poverty Level\", \"Food Pantries\", \"Bus Routes\"),  # Add Bus Routes here\n",
    "#     options = layersControlOptions(collapsed = FALSE)\n",
    "#   )\n",
    "# map1"
   ]
  },
  {
   "cell_type": "code",
   "execution_count": null,
   "id": "a9d4db62-6f49-4aa2-a9fa-3eb4ac94e3b7",
   "metadata": {
    "scrolled": true
   },
   "outputs": [],
   "source": [
    "# This map is adding in the radius of 1 mile around each pantry\n",
    "\n",
    "# map1 <- leaflet() %>%\n",
    "#   addProviderTiles(\"CartoDB.Positron\") %>%\n",
    "  \n",
    "#   # Poverty Layer WITH GROUP ASSIGNMENT\n",
    "#   addPolygons(\n",
    "#     data = merged_df,\n",
    "#     fillColor = ~pal_poverty(PovertyNum),\n",
    "#     fillOpacity = 0.55,\n",
    "#     weight = 0.3,\n",
    "#     color = \"white\",\n",
    "#     group = \"Poverty Level\",\n",
    "    \n",
    "#     # Interactive features\n",
    "#     highlightOptions = highlightOptions(\n",
    "#       weight = 2,\n",
    "#       color = \"#666\",\n",
    "#       bringToFront = TRUE,\n",
    "#       fillOpacity = 0.9\n",
    "#     ),\n",
    "#     label = ~paste(\"Tract:\", NAME, \"Poverty:\", round(PovertyNum, 1), \"%\"),\n",
    "#     popup = ~paste(\n",
    "#       \"<strong>Tract \", NAME, \"</strong><br>\",\n",
    "#       \"Poverty Level: \", round(PovertyNum, 1), \"%<br>\",\n",
    "#       \"Median Income: $\", formatC(MedianIncomeNum, format = \"f\", big.mark = \",\", digits = 0)\n",
    "#     )\n",
    "#   ) %>%\n",
    "  \n",
    "#   # Poverty Legend WITH GROUP ASSIGNMENT\n",
    "#   addLegend(\n",
    "#     position = \"bottomright\",\n",
    "#     pal = pal_poverty,\n",
    "#     values = merged_df$PovertyNum,\n",
    "#     title = \"Poverty Level (%)\",\n",
    "#     group = \"Poverty Level\"  # Same group as polygons\n",
    "#   ) %>%\n",
    "  \n",
    "#   # Food Pantries with radius (now in same group)\n",
    "#   addMarkers(\n",
    "#     data = pantries,\n",
    "#     lng = ~long,\n",
    "#     lat = ~lat,\n",
    "#     popup = ~paste(\n",
    "#       \"<strong>\", Pantry.Name, \"</strong><br>\",\n",
    "#       \"Address: \", Address, \"<br>\",\n",
    "#       \"Hours: \", Recurring.Hours, \"<br>\",\n",
    "#       \"Requirements: \", What.to.Bring\n",
    "#     ),\n",
    "#     clusterOptions = markerClusterOptions(),\n",
    "#     group = \"Food Pantries\"\n",
    "#   ) %>%\n",
    "#   addCircles(\n",
    "#     data = pantries,\n",
    "#     lng = ~long,\n",
    "#     lat = ~lat,\n",
    "#     radius = 1609.34,  # 1 mile in meters\n",
    "#     fillColor = \"blue\",\n",
    "#     fillOpacity = 0.2,\n",
    "#     stroke = FALSE,\n",
    "#     group = \"Food Pantries\"\n",
    "#   )  %>%\n",
    "  \n",
    "#   # Bus Routes\n",
    "#   addPolylines(\n",
    "#     data = TranspoRoutes,\n",
    "#     color = ~pal_routes(line_name),\n",
    "#     weight = 3,\n",
    "#     opacity = 0.8,\n",
    "#     group = \"Bus Routes\",\n",
    "#     label = ~line_name,\n",
    "#     popup = ~paste(\"<strong>Route:</strong>\", line_name)\n",
    "#   ) %>%\n",
    "  \n",
    "#   # Layer control with ALL groups\n",
    "#   addLayersControl(\n",
    "#     overlayGroups = c(\"Poverty Level\", \"Food Pantries\", \"Bus Routes\"),\n",
    "#     options = layersControlOptions(collapsed = FALSE)\n",
    "#   ) %>%\n",
    "  \n",
    "#   # INITIALLY HIDE ALL LAYERS (except base map)\n",
    "#   hideGroup(c(\"Poverty Level\", \"Food Pantries\", \"Bus Routes\"))\n",
    "# map1"
   ]
  },
  {
   "cell_type": "code",
   "execution_count": null,
   "id": "5cec805b-3261-4e0b-821d-3f37051f077c",
   "metadata": {},
   "outputs": [],
   "source": [
    "counties <- st_read(\"County_Boundaries_of_Indiana_Current.shp\")\n",
    "counties <- st_transform(counties, crs = 4326)"
   ]
  },
  {
   "cell_type": "code",
   "execution_count": null,
   "id": "1f9725b2-fb13-4d60-8b72-eade9a03293f",
   "metadata": {},
   "outputs": [],
   "source": [
    "counties"
   ]
  },
  {
   "cell_type": "code",
   "execution_count": null,
   "id": "d33ca944-45c8-4c93-bbe4-9dcfbffd6e0e",
   "metadata": {},
   "outputs": [],
   "source": [
    "target_counties <- counties %>%\n",
    "  filter(\n",
    "         name %in% c(\"Elkhart\", \"Marshall\", \"St Joseph\"))  # Match exact names in the data"
   ]
  },
  {
   "cell_type": "code",
   "execution_count": null,
   "id": "e0f10785-3c7e-48d6-9d1a-d8a091d1c36d",
   "metadata": {},
   "outputs": [],
   "source": [
    "target_counties"
   ]
  },
  {
   "cell_type": "code",
   "execution_count": null,
   "id": "ccacbcb6-b32e-4514-a332-5abee15161d9",
   "metadata": {
    "scrolled": true
   },
   "outputs": [],
   "source": [
    "# This map is adding in the county boundary lines\n",
    "# map1 <- leaflet() %>%\n",
    "#   addProviderTiles(\"CartoDB.Positron\") %>%\n",
    "  \n",
    "#   # Poverty Layer WITH GROUP ASSIGNMENT\n",
    "#   addPolygons(\n",
    "#     data = merged_df,\n",
    "#     fillColor = ~pal_poverty(PovertyNum),\n",
    "#     fillOpacity = 0.55,\n",
    "#     weight = 0.3,\n",
    "#     color = \"white\",\n",
    "#     group = \"Poverty Level\",\n",
    "    \n",
    "#     # Interactive features\n",
    "#     highlightOptions = highlightOptions(\n",
    "#       weight = 2,\n",
    "#       color = \"#666\",\n",
    "#       bringToFront = TRUE,\n",
    "#       fillOpacity = 0.9\n",
    "#     ),\n",
    "#     label = ~paste(\"Tract:\", NAME, \"Poverty:\", round(PovertyNum, 1), \"%\"),\n",
    "#     popup = ~paste(\n",
    "#       \"<strong>Tract \", NAME, \"</strong><br>\",\n",
    "#       \"Poverty Level: \", round(PovertyNum, 1), \"%<br>\",\n",
    "#       \"Median Income: $\", formatC(MedianIncomeNum, format = \"f\", big.mark = \",\", digits = 0)\n",
    "#     )\n",
    "#   ) %>%\n",
    "  \n",
    "#   # Poverty Legend WITH GROUP ASSIGNMENT\n",
    "#   addLegend(\n",
    "#     position = \"bottomright\",\n",
    "#     pal = pal_poverty,\n",
    "#     values = merged_df$PovertyNum,\n",
    "#     title = \"Poverty Level (%)\",\n",
    "#     group = \"Poverty Level\"  # Same group as polygons\n",
    "#   ) %>%\n",
    "  \n",
    "#   # Food Pantries with radius (now in same group)\n",
    "#   addMarkers(\n",
    "#     data = pantries,\n",
    "#     lng = ~long,\n",
    "#     lat = ~lat,\n",
    "#     popup = ~paste(\n",
    "#       \"<strong>\", Pantry.Name, \"</strong><br>\",\n",
    "#       \"Address: \", Address, \"<br>\",\n",
    "#       \"Hours: \", Recurring.Hours, \"<br>\",\n",
    "#       \"Requirements: \", What.to.Bring\n",
    "#     ),\n",
    "#     clusterOptions = markerClusterOptions(),\n",
    "#     group = \"Food Pantries\"\n",
    "#   ) %>%\n",
    "#   addCircles(\n",
    "#     data = pantries,\n",
    "#     lng = ~long,\n",
    "#     lat = ~lat,\n",
    "#     radius = 1609.34,  # 1 mile in meters\n",
    "#     fillColor = \"blue\",\n",
    "#     fillOpacity = 0.2,\n",
    "#     stroke = FALSE,\n",
    "#     group = \"Food Pantries\"\n",
    "#   )  %>%\n",
    "  \n",
    "#   # Bus Routes\n",
    "#   addPolylines(\n",
    "#     data = TranspoRoutes,\n",
    "#     color = ~pal_routes(line_name),\n",
    "#     weight = 3,\n",
    "#     opacity = 0.8,\n",
    "#     group = \"Bus Routes\",\n",
    "#     label = ~line_name,\n",
    "#     popup = ~paste(\"<strong>Route:</strong>\", line_name)\n",
    "#   ) %>%\n",
    "\n",
    "#    # Add county boundaries\n",
    "#   addPolylines(\n",
    "#     data = counties,\n",
    "#     color = \"black\",       # Boundary color\n",
    "#     weight = 1,            # Line thickness\n",
    "#     opacity = 0.8,         # Line transparency\n",
    "#     group = \"County Boundaries\",\n",
    "#     label = ~NAME,\n",
    "#     popup = ~paste(\"<strong>County:</strong>\", NAME)\n",
    "#   ) %>%\n",
    "  \n",
    "#   # Update layer control to include new group\n",
    "#   addLayersControl(\n",
    "#     overlayGroups = c(\"Poverty Level\", \"Food Pantries\", \"Bus Routes\"),\n",
    "#     options = layersControlOptions(collapsed = FALSE)\n",
    "#   ) %>%\n",
    "  \n",
    "#   # Keep county boundaries visible by default (remove from hideGroup if needed)\n",
    "#   hideGroup(c(\"Poverty Level\", \"Food Pantries\", \"Bus Routes\"))\n",
    "\n",
    "#   # # Layer control with ALL groups\n",
    "#   # addLayersControl(\n",
    "#   #   overlayGroups = c(\"Poverty Level\", \"Food Pantries\", \"Bus Routes\"),\n",
    "#   #   options = layersControlOptions(collapsed = FALSE)\n",
    "#   # ) %>%\n",
    "  \n",
    "#   # # INITIALLY HIDE ALL LAYERS (except base map)\n",
    "#   # hideGroup(c(\"Poverty Level\", \"Food Pantries\", \"Bus Routes\"))\n",
    "# map1"
   ]
  },
  {
   "cell_type": "code",
   "execution_count": null,
   "id": "c7506765-20e7-4e4b-9397-62bc587bed00",
   "metadata": {},
   "outputs": [],
   "source": [
    "#install.packages(\"leafgl\")"
   ]
  },
  {
   "cell_type": "code",
   "execution_count": null,
   "id": "ec9cf903-9639-4b1d-844f-7221e76895b4",
   "metadata": {},
   "outputs": [],
   "source": [
    "# This is the setup to obtain different radius markers around each pantry\n",
    "library(leafgl)\n",
    "# First, convert to SF and create buffers (if not already done)\n",
    "library(sf)\n",
    "pantries_sf <- st_as_sf(pantries, coords = c(\"long\", \"lat\"), crs = 4326) %>%\n",
    "  st_buffer(dist = 1609.34)  # 1-mile buffers\n"
   ]
  },
  {
   "cell_type": "code",
   "execution_count": null,
   "id": "0d18050d-5979-4046-ad01-1eaa70aa6198",
   "metadata": {},
   "outputs": [],
   "source": [
    "# Modified map code\n",
    "map1 <- leaflet() %>%\n",
    "  addProviderTiles(\"CartoDB.Positron\") %>%\n",
    "  \n",
    "  # Poverty Layer (LIGHTER)\n",
    "  addPolygons(\n",
    "    data = merged_df,\n",
    "    fillColor = ~pal_poverty(PovertyNum),\n",
    "    fillOpacity = 0.55,\n",
    "    weight = 0.3,\n",
    "    color = \"white\",\n",
    "    group = \"Poverty Level\",\n",
    "    \n",
    "    # Interactive features\n",
    "    highlightOptions = highlightOptions(\n",
    "      weight = 2,\n",
    "      color = \"#666\",\n",
    "      bringToFront = TRUE,\n",
    "      fillOpacity = 0.9\n",
    "    ),\n",
    "    label = ~paste(\"Tract:\", NAME, \"Poverty:\", round(PovertyNum, 1), \"%\"),\n",
    "    popup = ~paste(\n",
    "      \"<strong>Tract \", NAME, \"</strong><br>\",\n",
    "      \"Poverty Level: \", round(PovertyNum, 1), \"%<br>\",\n",
    "      \"Median Income: $\", formatC(MedianIncomeNum, format = \"f\", big.mark = \",\", digits = 0), \"%<br>\",\n",
    "         \"<a href='\", CensusReporter_Link\t, \"' target='_blank'>View Full Tract Info</a>\"\n",
    "    )\n",
    "  ) %>%\n",
    "addLegend(\n",
    "    position = \"bottomright\",\n",
    "    pal = pal_poverty,\n",
    "    values = merged_df$PovertyNum,\n",
    "    title = \"Poverty Level (%)\",\n",
    "    group = \"Poverty Level\"  # Same group as polygons\n",
    "  ) %>%\n",
    "  \n",
    "  # County Boundaries (existing code)\n",
    " addPolylines(\n",
    "    data = target_counties,\n",
    "    color = \"black\",       # Boundary color\n",
    "    weight = 3,            # Line thickness\n",
    "    opacity = 0.8,         # Line transparency\n",
    "    group = \"County Boundaries\",\n",
    "    label = ~name,\n",
    "    popup = ~paste(\"<strong>County:</strong>\", name)\n",
    "  ) %>%\n",
    "\n",
    "# Bus Routes\n",
    "  addPolylines(\n",
    "    data = TranspoRoutes,\n",
    "    color = ~pal_routes(line_name),\n",
    "    weight = 3,\n",
    "    opacity = 0.9,\n",
    "    group = \"Bus Routes\",\n",
    "    label = ~line_name,\n",
    "    popup = ~paste(\"<strong>Route:</strong>\", line_name)\n",
    "  ) %>%\n",
    "  # Food Pantry RADII (Key modification)\n",
    "addGlPolygons(\n",
    "  data = pantries_sf,\n",
    "  fillColor = \"#9370DB19\",\n",
    "  fillopacity = 0.3, # 5% purple fill\n",
    "  color = \"#6A5ACD1A\",      # 10% purple border\n",
    "  weight = 1,\n",
    "  group = \"Pantry Coverage\"      # adjust this value to get your desired lightne\n",
    ") %>%\n",
    "\n",
    "  \n",
    "  # Food Pantry MARKERS \n",
    "  addMarkers(\n",
    "    data = pantries,\n",
    "    lng = ~long,\n",
    "    lat = ~lat,\n",
    "    popup = ~paste(\n",
    "      \"<strong>\", Pantry.Name, \"</strong><br>\",\n",
    "      \"Address: \", Address, \"<br>\",\n",
    "      \"Hours: \", Recurring.Hours, \"<br>\",\n",
    "      \"Requirements: \", What.to.Bring,\n",
    "      \"<a href='\", Link, \"' target='_blank'>View on Google Maps</a>\"\n",
    "    ),\n",
    "    clusterOptions = markerClusterOptions(),\n",
    "    group = \"Food Pantries\"\n",
    "  ) %>%\n",
    "  \n",
    "  # Layer control\n",
    "  addLayersControl(\n",
    "    overlayGroups = c(\"Poverty Level\", \"Food Pantries\", \"Pantry Coverage\", \"Bus Routes\"),  # the county lines will not be toggable (they're fixed)\n",
    "    options = layersControlOptions(collapsed = FALSE)\n",
    "  ) %>%\n",
    "  \n",
    "  hideGroup(c(\"Poverty Level\", \"Bus Routes\", \"Pantry Coverage\", \"Food Pantries\"))  \n",
    "\n",
    "map1"
   ]
  },
  {
   "cell_type": "code",
   "execution_count": null,
   "id": "628a572a-edbb-4f1a-ad55-a544b85835c2",
   "metadata": {},
   "outputs": [],
   "source": [
    "#saveWidget(map1, file = \"TranspoFoodiePovMap5.html\", selfcontained = TRUE)"
   ]
  },
  {
   "cell_type": "markdown",
   "id": "370d29fd-8af3-40c0-bd74-76796df48269",
   "metadata": {},
   "source": [
    "1. Add pantries that are not on the hours CSV\n",
    "2. separate the pantries by county with toggle ability to see\n",
    "3. Radii\n",
    "4. toggle on/off radii\n",
    "5. make really fancy with radii abilities (zooom/overlap same opacity)"
   ]
  }
 ],
 "metadata": {
  "kernelspec": {
   "display_name": "seminar-r",
   "language": "R",
   "name": "seminar-r"
  },
  "language_info": {
   "codemirror_mode": "r",
   "file_extension": ".r",
   "mimetype": "text/x-r-source",
   "name": "R",
   "pygments_lexer": "r",
   "version": "4.4.1"
  }
 },
 "nbformat": 4,
 "nbformat_minor": 5
}
